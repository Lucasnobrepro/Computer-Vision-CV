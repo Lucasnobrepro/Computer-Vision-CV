{
 "metadata": {
  "language_info": {
   "codemirror_mode": {
    "name": "ipython",
    "version": 3
   },
   "file_extension": ".py",
   "mimetype": "text/x-python",
   "name": "python",
   "nbconvert_exporter": "python",
   "pygments_lexer": "ipython3",
   "version": "3.8.5"
  },
  "orig_nbformat": 2,
  "kernelspec": {
   "name": "python385jvsc74a57bd0553567ffba0e17075731a4ce48ed70b0df537834ba59f7c38518d039f581877f",
   "display_name": "Python 3.8.5 64-bit ('base': conda)"
  },
  "metadata": {
   "interpreter": {
    "hash": "553567ffba0e17075731a4ce48ed70b0df537834ba59f7c38518d039f581877f"
   }
  }
 },
 "nbformat": 4,
 "nbformat_minor": 2,
 "cells": [
  {
   "cell_type": "code",
   "execution_count": null,
   "metadata": {},
   "outputs": [],
   "source": [
    "# Bibliotecas\n",
    "import cv2\n",
    "import os\n",
    "import numpy as np\n",
    "\n",
    "from PIL import Image\n",
    "from matplotlib import pyplot as plt"
   ]
  },
  {
   "cell_type": "code",
   "execution_count": null,
   "metadata": {},
   "outputs": [],
   "source": [
    "# Lendo imagens e sicronizando com IDs;\n",
    "def get_imgs():\n",
    "\n",
    "    paths = [os.path.join(\"yalefaces\", f) for f in os.listdir(\"yalefaces\")]\n",
    "    faces = []\n",
    "    ids = []\n",
    "\n",
    "    for path in paths:\n",
    "        img = Image.open(path).convert('L')\n",
    "        img_np = np.array(img, 'uint8')\n",
    "        id = int(os.path.split(path)[1].split('.')[0].replace('subject', ''))\n",
    "        ids.append(id)\n",
    "        faces.append(img_np)\n",
    "    return np.array(ids), faces"
   ]
  },
  {
   "cell_type": "code",
   "execution_count": null,
   "metadata": {},
   "outputs": [],
   "source": [
    "# Pegando Ids e Imgens;\n",
    "ids, faces = get_imgs()\n",
    "\n",
    "# Carregando classificador;\n",
    "lbph = cv2.face.LBPHFaceRecognizer_create()\n",
    "# treinando LBPH;\n",
    "lbph.train(faces, ids)\n",
    "# Salvando LBPH;\n",
    "lbph.write('classificadorLBPH.yml')"
   ]
  },
  {
   "cell_type": "code",
   "execution_count": null,
   "metadata": {},
   "outputs": [],
   "source": [
    "# Carregadno classificador;\n",
    "lbph.read(\"classificadorLBPH.yml\")\n",
    "# imagem para teste;\n",
    "imagem = Image.open(\"yalefaces/subject02.sad\").convert(\"L\")\n",
    "# trannsformando imagem;\n",
    "imagem_np = np.array(imagem,\"uint8\")\n",
    "\n",
    "# realizando previsãp;\n",
    "predId, _ = lbph.predict(imagem_np)\n",
    "predId"
   ]
  },
  {
   "cell_type": "code",
   "execution_count": null,
   "metadata": {},
   "outputs": [],
   "source": [
    "cv2.putText(imagem_np,'P: ' + str(predId), (x ,y + 30), cv2.FONT_HERSHEY_COMPLEX_SMALL, 1, (0,255,0))\n",
    "plt.imshow(imagem_np,\"gray\")"
   ]
  },
  {
   "cell_type": "code",
   "execution_count": null,
   "metadata": {},
   "outputs": [],
   "source": []
  }
 ]
}