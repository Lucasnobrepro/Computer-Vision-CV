{
 "metadata": {
  "language_info": {
   "codemirror_mode": {
    "name": "ipython",
    "version": 3
   },
   "file_extension": ".py",
   "mimetype": "text/x-python",
   "name": "python",
   "nbconvert_exporter": "python",
   "pygments_lexer": "ipython3",
   "version": "3.8.5"
  },
  "orig_nbformat": 2,
  "kernelspec": {
   "name": "python385jvsc74a57bd0b3ba2566441a7c06988d0923437866b63cedc61552a5af99d1f4fb67d367b25f",
   "display_name": "Python 3.8.5 64-bit ('base': conda)"
  }
 },
 "nbformat": 4,
 "nbformat_minor": 2,
 "cells": [
  {
   "cell_type": "code",
   "execution_count": 1,
   "metadata": {},
   "outputs": [],
   "source": [
    "# Bibliotecas\n",
    "import cv2\n",
    "import os\n",
    "import numpy as np\n",
    "\n",
    "from PIL import Image\n",
    "from matplotlib import pyplot as plt"
   ]
  },
  {
   "cell_type": "code",
   "execution_count": 2,
   "metadata": {},
   "outputs": [],
   "source": [
    "# Lendo imagens e sicronizando com IDs;\n",
    "def get_imgs():\n",
    "\n",
    "    paths = [os.path.join(\"yalefaces\", f) for f in os.listdir(\"yalefaces\")]\n",
    "    faces = []\n",
    "    ids = []\n",
    "\n",
    "    for path in paths:\n",
    "        if path == '/yalefaces/treinamento/.ipynb_checkpoints':\n",
    "            continue\n",
    "        img = Image.open(path).convert('L')\n",
    "        img_np = np.array(img, 'uint8')\n",
    "        id = int(os.path.split(path)[1].split('.')[0].replace('subject', ''))\n",
    "        ids.append(id)\n",
    "        faces.append(img_np)\n",
    "    return np.array(ids), faces"
   ]
  },
  {
   "cell_type": "code",
   "execution_count": 3,
   "metadata": {},
   "outputs": [],
   "source": [
    "# Pegando Ids e Imgens;\n",
    "ids, faces = get_imgs()\n",
    "\n",
    "# Carregando classificador;\n",
    "lbph = cv2.face.LBPHFaceRecognizer_create()\n",
    "# treinando LBPH;\n",
    "lbph.train(faces, ids)\n",
    "# Salvando LBPH;\n",
    "lbph.write('classificadorLBPH.yml')"
   ]
  },
  {
   "cell_type": "code",
   "execution_count": 4,
   "metadata": {},
   "outputs": [],
   "source": []
  },
  {
   "cell_type": "code",
   "execution_count": null,
   "metadata": {},
   "outputs": [],
   "source": []
  }
 ]
}